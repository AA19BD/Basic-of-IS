{
 "cells": [
  {
   "cell_type": "markdown",
   "metadata": {},
   "source": [
    "# Importing libraries\n"
   ]
  },
  {
   "cell_type": "code",
   "execution_count": 200,
   "metadata": {},
   "outputs": [],
   "source": [
    "import numpy as np\n",
    "import collections\n",
    "with open('roosevelt.txt','r',encoding=\"utf-8\") as fh:#reading the txt file\n",
    "    data = fh.read()"
   ]
  },
  {
   "cell_type": "markdown",
   "metadata": {},
   "source": [
    "# Making list of all letters with frequency using \"collections\" library, After what we sort them by their values and put them  into final_list "
   ]
  },
  {
   "cell_type": "code",
   "execution_count": 205,
   "metadata": {},
   "outputs": [],
   "source": [
    "def create_list(message):\n",
    "    list=dict(collections.Counter(message))\n",
    "    list_sorted=sorted(list.items(), key=lambda item:(item[1]))\n",
    "    final_list=[]\n",
    "    for key,value in list_sorted:\n",
    "        final_list.append([key,value,\"\"])\n",
    "    \n",
    "    return final_list\n",
    "h=create_list(data)\n"
   ]
  },
  {
   "cell_type": "markdown",
   "metadata": {},
   "source": [
    "# In second part i recursively divide in two parts left one=0 and right one=1,and repeat that step until no further division can be mase"
   ]
  },
  {
   "cell_type": "code",
   "execution_count": 206,
   "metadata": {
    "scrolled": true
   },
   "outputs": [
    {
     "name": "stdout",
     "output_type": "stream",
     "text": [
      "Shannon Fano Coding\n",
      "[[' ', 102025, '111']]\n",
      "[['e', 60910, '110']]\n",
      "[['t', 44833, '1011']]\n",
      "[['o', 37374, '1010']]\n",
      "[['a', 36333, '1001']]\n",
      "[['i', 32748, '1000']]\n",
      "[['n', 32680, '0111']]\n",
      "[['s', 29619, '0110']]\n",
      "[['h', 28534, '0101']]\n",
      "[['r', 27684, '01001']]\n",
      "[['d', 19979, '01000']]\n",
      "[['l', 18525, '00111']]\n",
      "[['c', 13075, '00110']]\n",
      "[['u', 12246, '001011']]\n",
      "[['m', 11366, '001010']]\n",
      "[['f', 10575, '001001']]\n",
      "[['w', 9362, '001000']]\n",
      "[['p', 8695, '000111']]\n",
      "[['g', 8118, '000110']]\n",
      "[['y', 7835, '000101']]\n",
      "[[',', 7531, '0001001']]\n",
      "[['b', 6327, '0001000']]\n",
      "[['v', 5736, '0000111']]\n",
      "[['.', 4359, '0000110']]\n",
      "[['k', 2567, '00001011']]\n",
      "[['\\n', 1633, '00001010']]\n",
      "[['R', 1523, '00001001']]\n",
      "[['T', 1391, '000010001']]\n",
      "[['I', 1197, '000010000']]\n",
      "[['A', 1172, '000001111']]\n",
      "[['\"', 1047, '000001110']]\n",
      "[['P', 1032, '000001101']]\n",
      "[['H', 996, '000001100']]\n",
      "[['-', 982, '000001011']]\n",
      "[['S', 970, '0000010101']]\n",
      "[['C', 968, '0000010100']]\n",
      "[['W', 710, '000001001']]\n",
      "[['M', 678, '0000010001']]\n",
      "[['B', 638, '0000010000']]\n",
      "[['x', 595, '0000001111']]\n",
      "[[';', 554, '0000001110']]\n",
      "[['N', 537, '0000001101']]\n",
      "[[\"'\", 535, '0000001100']]\n",
      "[['G', 491, '0000001011']]\n",
      "[['q', 462, '0000001010']]\n",
      "[['1', 445, '0000001001']]\n",
      "[['j', 436, '00000010001']]\n",
      "[['E', 436, '00000010000']]\n",
      "[['z', 398, '0000000111']]\n",
      "[['D', 371, '00000001101']]\n",
      "[['O', 369, '00000001100']]\n",
      "[['L', 328, '00000001011']]\n",
      "[['F', 324, '00000001010']]\n",
      "[['J', 237, '00000001001']]\n",
      "[['0', 236, '00000001000']]\n",
      "[['9', 207, '00000000111']]\n",
      "[['U', 196, '000000001101']]\n",
      "[['8', 189, '000000001100']]\n",
      "[['Y', 179, '00000000101']]\n",
      "[[':', 157, '000000001001']]\n",
      "[['V', 148, '000000001000']]\n",
      "[['K', 127, '000000000111']]\n",
      "[['2', 113, '000000000110']]\n",
      "[['*', 103, '000000000101']]\n",
      "[['?', 93, '0000000001001']]\n",
      "[['4', 88, '0000000001000']]\n",
      "[['3', 73, '0000000000111']]\n",
      "[['6', 73, '0000000000110']]\n",
      "[['5', 63, '0000000000101']]\n",
      "[['7', 60, '0000000000100']]\n",
      "[['X', 56, '0000000000011']]\n",
      "[['!', 55, '0000000000010']]\n",
      "[['Q', 29, '00000000000011']]\n",
      "[[')', 16, '000000000000101']]\n",
      "[['(', 16, '000000000000100']]\n",
      "[[']', 13, '000000000000011']]\n",
      "[['[', 13, '000000000000010']]\n",
      "[['$', 8, '0000000000000011']]\n",
      "[['=', 7, '0000000000000010']]\n",
      "[['Z', 5, '0000000000000001']]\n",
      "[['>', 4, '00000000000000001']]\n",
      "[['&', 4, '00000000000000000']]\n"
     ]
    }
   ],
   "source": [
    "Code=[]\n",
    "def Shannon(arr):\n",
    "    half = sum(map(lambda x: x[1], arr))\n",
    "    sum1 = 0\n",
    "    for i, j in enumerate(arr):\n",
    "        sum1 += j[1]\n",
    "        if sum1 * 2 >= half:\n",
    "            index = i + (abs(2 * sum1 - half) < abs(2 * (sum1 - j[1]) - half))\n",
    "            break\n",
    "    arr0, arr1 = [], []\n",
    "    for i in arr[:index]:\n",
    "        i[2] += '0'\n",
    "        arr0.append(i)\n",
    "    for i in arr[index:]:\n",
    "        i[2] += '1'\n",
    "        arr1.append(i)\n",
    "    if len(arr1) == 1:\n",
    "        Code.append(arr1)\n",
    "    else:\n",
    "        Shannon(arr1)\n",
    "    if len(arr0) == 1:\n",
    "        Code.append(arr0)\n",
    "    else:\n",
    "        Shannon(arr0)\n",
    " \n",
    "Shannon(h)\n",
    "print('Shannon Fano Coding')\n",
    "for i in Code:\n",
    "    print(i)"
   ]
  },
  {
   "cell_type": "code",
   "execution_count": null,
   "metadata": {},
   "outputs": [],
   "source": []
  }
 ],
 "metadata": {
  "kernelspec": {
   "display_name": "Python 3",
   "language": "python",
   "name": "python3"
  },
  "language_info": {
   "codemirror_mode": {
    "name": "ipython",
    "version": 3
   },
   "file_extension": ".py",
   "mimetype": "text/x-python",
   "name": "python",
   "nbconvert_exporter": "python",
   "pygments_lexer": "ipython3",
   "version": "3.7.6"
  }
 },
 "nbformat": 4,
 "nbformat_minor": 4
}
