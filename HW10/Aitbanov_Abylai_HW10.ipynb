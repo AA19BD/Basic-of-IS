{
 "cells": [
  {
   "cell_type": "markdown",
   "metadata": {},
   "source": [
    "#  Importing libraries"
   ]
  },
  {
   "cell_type": "code",
   "execution_count": 36,
   "metadata": {},
   "outputs": [],
   "source": [
    "import numpy as np\n",
    "import collections"
   ]
  },
  {
   "cell_type": "markdown",
   "metadata": {},
   "source": [
    "# Prepare a table of probabilities for each symbol"
   ]
  },
  {
   "cell_type": "code",
   "execution_count": 37,
   "metadata": {},
   "outputs": [],
   "source": [
    "def findTheCharFrequency(text):\n",
    "    result = dict()\n",
    "    with open(text,'r',encoding=\"utf-8\") as f:#reading the txt file\n",
    "        for line in f.readlines():\n",
    "            line = line.lower()\n",
    "            for i in line:\n",
    "                if i.isalpha():     \n",
    "                    if i in result:\n",
    "                        result[i] += 1\n",
    "                    else:\n",
    "                        result.update({i:1})\n",
    "    return result\n",
    "\n"
   ]
  },
  {
   "cell_type": "code",
   "execution_count": 38,
   "metadata": {},
   "outputs": [
    {
     "data": {
      "text/plain": [
       "{'t': 46224,\n",
       " 'h': 29530,\n",
       " 'e': 61346,\n",
       " 'o': 37743,\n",
       " 'd': 20350,\n",
       " 'r': 29207,\n",
       " 's': 30589,\n",
       " 'v': 5884,\n",
       " 'l': 18853,\n",
       " 'a': 37505,\n",
       " 'n': 33217,\n",
       " 'i': 33945,\n",
       " 'm': 12044,\n",
       " 'b': 6965,\n",
       " 'g': 8609,\n",
       " 'p': 9727,\n",
       " 'y': 8014,\n",
       " 'w': 10072,\n",
       " 'c': 14043,\n",
       " 'f': 10899,\n",
       " 'k': 2694,\n",
       " 'u': 12442,\n",
       " 'x': 651,\n",
       " 'j': 673,\n",
       " 'q': 491,\n",
       " 'z': 403}"
      ]
     },
     "execution_count": 38,
     "metadata": {},
     "output_type": "execute_result"
    }
   ],
   "source": [
    "result"
   ]
  },
  {
   "cell_type": "markdown",
   "metadata": {},
   "source": [
    "# Create node class"
   ]
  },
  {
   "cell_type": "code",
   "execution_count": 39,
   "metadata": {},
   "outputs": [],
   "source": [
    "class Node(object):\n",
    "    def __init__(self, name=None, value=None):\n",
    "        self.name = name\n",
    "        self.value = value\n",
    "        self.lchild = None\n",
    "        self.rchild = None\n"
   ]
  },
  {
   "cell_type": "markdown",
   "metadata": {},
   "source": [
    "# Creating the Huffman tree"
   ]
  },
  {
   "cell_type": "code",
   "execution_count": 40,
   "metadata": {},
   "outputs": [],
   "source": [
    "class HuffmanTree(object):\n",
    "    def __init__(self, char_Weights): #Based on a node, build a Huffman tree in reverse order\n",
    "        self.Leaf = [Node(k,v) for k, v in char_Weights.items()]\n",
    "        while len(self.Leaf) != 1:\n",
    "            self.Leaf.sort(key=lambda node:node.value, reverse=True)\n",
    "            n = Node(value=(self.Leaf[-1].value + self.Leaf[-2].value))\n",
    "            n.lchild = self.Leaf.pop(-1)\n",
    "            n.rchild = self.Leaf.pop(-1)\n",
    "            self.Leaf.append(n)\n",
    "        self.root = self.Leaf[0]\n",
    "        self.Buffer = list(range(10))\n",
    "\n",
    "    \n",
    "    def Hu_generate(self, tree, length):\n",
    "        node = tree\n",
    "        if (not node):\n",
    "            return\n",
    "        elif node.name:\n",
    "            print(node.name +\"->\", end='')\n",
    "            for i in range(length):\n",
    "                print(self.Buffer[i], end='')\n",
    "            print('\\n')\n",
    "            return\n",
    "        self.Buffer[length] = 0\n",
    "        self.Hu_generate(node.lchild, length + 1)\n",
    "        self.Buffer[length] = 1\n",
    "        self.Hu_generate(node.rchild, length + 1)\n",
    "\n",
    "\n",
    "    def get_code(self): #Output\n",
    "        self.Hu_generate(self.root, 0)\n"
   ]
  },
  {
   "cell_type": "code",
   "execution_count": 41,
   "metadata": {},
   "outputs": [
    {
     "name": "stdout",
     "output_type": "stream",
     "text": [
      "w->00000\n",
      "\n",
      "z->000010000\n",
      "\n",
      "q->000010001\n",
      "\n",
      "x->000010010\n",
      "\n",
      "j->000010011\n",
      "\n",
      "k->0000101\n",
      "\n",
      "v->000011\n",
      "\n",
      "f->00010\n",
      "\n",
      "m->00011\n",
      "\n",
      "t->001\n",
      "\n",
      "u->01000\n",
      "\n",
      "c->01001\n",
      "\n",
      "r->0101\n",
      "\n",
      "h->0110\n",
      "\n",
      "s->0111\n",
      "\n",
      "e->100\n",
      "\n",
      "n->1010\n",
      "\n",
      "b->101100\n",
      "\n",
      "y->101101\n",
      "\n",
      "g->101110\n",
      "\n",
      "p->101111\n",
      "\n",
      "i->1100\n",
      "\n",
      "a->1101\n",
      "\n",
      "o->1110\n",
      "\n",
      "l->11110\n",
      "\n",
      "d->11111\n",
      "\n",
      "{'t': 46224, 'h': 29530, 'e': 61346, 'o': 37743, 'd': 20350, 'r': 29207, 's': 30589, 'v': 5884, 'l': 18853, 'a': 37505, 'n': 33217, 'i': 33945, 'm': 12044, 'b': 6965, 'g': 8609, 'p': 9727, 'y': 8014, 'w': 10072, 'c': 14043, 'f': 10899, 'k': 2694, 'u': 12442, 'x': 651, 'j': 673, 'q': 491, 'z': 403}\n"
     ]
    }
   ],
   "source": [
    "text = r'roosevelt.txt'\n",
    "result = findTheCharFrequency(text)\n",
    "tree = HuffmanTree(result)\n",
    "tree.get_code()\n",
    "print(result)"
   ]
  },
  {
   "cell_type": "markdown",
   "metadata": {},
   "source": [
    "# Differences between Huffman and Shannon Fano algorithm are results produced by Huffman encoding are always optimal and Huffman coding uses prefix code conditions while Shannon fano coding uses cumulative distribution function.And  Shannon Fano sometimes does not achieve the lowest possible expected code word length.\n"
   ]
  },
  {
   "cell_type": "markdown",
   "metadata": {},
   "source": [
    "# Complexity of Huffman in the worst case is Θ(nlogn)\n",
    "# Complexity of Fano algorithm in the worst case is Θ(n^2),in the best case Θ(nlogn)\n"
   ]
  }
 ],
 "metadata": {
  "kernelspec": {
   "display_name": "Python 3",
   "language": "python",
   "name": "python3"
  },
  "language_info": {
   "codemirror_mode": {
    "name": "ipython",
    "version": 3
   },
   "file_extension": ".py",
   "mimetype": "text/x-python",
   "name": "python",
   "nbconvert_exporter": "python",
   "pygments_lexer": "ipython3",
   "version": "3.7.6"
  }
 },
 "nbformat": 4,
 "nbformat_minor": 4
}
