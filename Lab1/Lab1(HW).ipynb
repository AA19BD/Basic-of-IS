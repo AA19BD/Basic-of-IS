{
 "cells": [
  {
   "cell_type": "markdown",
   "metadata": {
    "id": "231mEWnfHoso"
   },
   "source": [
    "### Lab 1\n",
    "Calc the entropy the text about \"Zhestokiy Vek\".\n",
    "\n",
    "- Filter only cyrilic symbols from the text.\n",
    "- Create the ABC\n",
    "- Calc the freq of each symbol at the text.\n",
    "- Apply the formula of Entropy\n",
    "- And print result out.\n",
    "- Save it to MS teams comments at the task form."
   ]
  },
  {
   "cell_type": "code",
   "execution_count": 5,
   "metadata": {
    "colab": {
     "base_uri": "https://localhost:8080/"
    },
    "id": "Gk6jchHkHoss",
    "outputId": "22eca84b-b4ed-4fe6-9484-6d79df60af8e"
   },
   "outputs": [
    {
     "name": "stdout",
     "output_type": "stream",
     "text": [
      "Entropy 4.498326672490779\n"
     ]
    }
   ],
   "source": [
    "import re \n",
    "import math\n",
    "with open('jest_vek.txt','r',encoding=\"utf-8\") as fh:\n",
    "    data = fh.read()\n",
    "    data = data.lower()\n",
    "    data=data.rstrip()\n",
    "    lines = data.split(\"\\n\")\n",
    "counts=dict()\n",
    "for char in lines:\n",
    "    my_sym=re.findall('[А-Яа-я]',char)\n",
    "    for i in my_sym:\n",
    "        counts[i]=counts.get(i,0)+1\n",
    "sum=0\n",
    "H=0\n",
    "for v in (counts.values()):\n",
    "    sum+=v\n",
    "# print(sum)\n",
    "for v in (counts.values()):\n",
    "    p=v/sum\n",
    "    H+=-(p*math.log2(p))\n",
    "    \n",
    "print(\"Entropy\",H)##4.498326672490779\n",
    "\n",
    "# for k,v in sorted(counts.items()):\n",
    "#     print(k,v)"
   ]
  },
  {
   "cell_type": "code",
   "execution_count": null,
   "metadata": {},
   "outputs": [],
   "source": []
  }
 ],
 "metadata": {
  "colab": {
   "collapsed_sections": [],
   "name": "Lab1.ipynb",
   "provenance": []
  },
  "interpreter": {
   "hash": "0adcc2737ebf6a4a119f135174df96668767fca1ef1112612db5ecadf2b6d608"
  },
  "kernelspec": {
   "display_name": "Python 3",
   "language": "python",
   "name": "python3"
  },
  "language_info": {
   "codemirror_mode": {
    "name": "ipython",
    "version": 3
   },
   "file_extension": ".py",
   "mimetype": "text/x-python",
   "name": "python",
   "nbconvert_exporter": "python",
   "pygments_lexer": "ipython3",
   "version": "3.7.6"
  }
 },
 "nbformat": 4,
 "nbformat_minor": 1
}
